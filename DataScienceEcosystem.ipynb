{
 "cells": [
  {
   "cell_type": "markdown",
   "id": "63a7cb39",
   "metadata": {},
   "source": [
    "# Data Science Tools and Ecosystem"
   ]
  },
  {
   "cell_type": "markdown",
   "id": "75e34eb5",
   "metadata": {},
   "source": [
    "## Author\n",
    "ZHEGN Ruonan"
   ]
  },
  {
   "cell_type": "markdown",
   "id": "09a8ac70",
   "metadata": {},
   "source": [
    "In this notebook, Data Science Tools and Ecosystem are summarized."
   ]
  },
  {
   "cell_type": "markdown",
   "id": "083f897e",
   "metadata": {},
   "source": [
    "**Objectives:**\n",
    "- Languages\n",
    "- Commonly used libraries\n",
    "- Open source tools"
   ]
  },
  {
   "cell_type": "markdown",
   "id": "7e7d5c12",
   "metadata": {},
   "source": [
    "1.Some of the popular languages that Data Scientists use are:"
   ]
  },
  {
   "cell_type": "markdown",
   "id": "5b53a7b7",
   "metadata": {},
   "source": [
    "- Python\n",
    "- R\n",
    "- Go\n",
    "- C++ \n",
    "and so on."
   ]
  },
  {
   "cell_type": "markdown",
   "id": "b5c54600",
   "metadata": {},
   "source": [
    "2.Some of the commonly used libraries used by Data Scientists include:"
   ]
  },
  {
   "cell_type": "markdown",
   "id": "0aea7ca0",
   "metadata": {},
   "source": [
    "- Numpy\n",
    "- Pandas\n",
    "- Matplotlib\n",
    "- Seaborn\n",
    "- scikit-learn"
   ]
  },
  {
   "cell_type": "markdown",
   "id": "50f1032b",
   "metadata": {},
   "source": [
    "3.Create a markdown cell with a table of Data Science tools"
   ]
  },
  {
   "cell_type": "markdown",
   "id": "269ea064",
   "metadata": {},
   "source": [
    "|  Data Science Tools   | \n",
    "|  ----  | \n",
    "| Ancaconda  |\n",
    "| Visual Studio  | \n",
    "|Google Colab|"
   ]
  },
  {
   "cell_type": "markdown",
   "id": "53a4eb97",
   "metadata": {},
   "source": [
    "4.Create a markdown cell introducing arithmetic expression examples"
   ]
  },
  {
   "cell_type": "markdown",
   "id": "5b207c1a",
   "metadata": {},
   "source": [
    "### Below are a few examples of evaluating arithmetic expressions in Python"
   ]
  },
  {
   "cell_type": "markdown",
   "id": "a710c3f2",
   "metadata": {},
   "source": [
    "5.Create a code cell to multiply and add numbers"
   ]
  },
  {
   "cell_type": "markdown",
   "id": "5b22d1aa",
   "metadata": {},
   "source": [
    "This a simple arithmetic expression to mutiply then add integers"
   ]
  },
  {
   "cell_type": "code",
   "execution_count": 1,
   "id": "0d741adf",
   "metadata": {},
   "outputs": [
    {
     "data": {
      "text/plain": [
       "17"
      ]
     },
     "execution_count": 1,
     "metadata": {},
     "output_type": "execute_result"
    }
   ],
   "source": [
    "(3*4)+5"
   ]
  },
  {
   "cell_type": "markdown",
   "id": "dfc3e2c9",
   "metadata": {},
   "source": [
    "6.Create a code cell to convert minutes to hours"
   ]
  },
  {
   "cell_type": "markdown",
   "id": "6081efba",
   "metadata": {},
   "source": [
    "This will convert 200 minutes to hours by diving by 60"
   ]
  },
  {
   "cell_type": "code",
   "execution_count": 2,
   "id": "c1d66fb5",
   "metadata": {},
   "outputs": [
    {
     "data": {
      "text/plain": [
       "3.3333333333333335"
      ]
     },
     "execution_count": 2,
     "metadata": {},
     "output_type": "execute_result"
    }
   ],
   "source": [
    "200/60"
   ]
  },
  {
   "cell_type": "markdown",
   "id": "9ca77e1b",
   "metadata": {},
   "source": [
    "7.Insert a markdown cell to list Objectives"
   ]
  },
  {
   "cell_type": "code",
   "execution_count": null,
   "id": "95b49fdc",
   "metadata": {},
   "outputs": [],
   "source": []
  }
 ],
 "metadata": {
  "kernelspec": {
   "display_name": "Python 3 (ipykernel)",
   "language": "python",
   "name": "python3"
  },
  "language_info": {
   "codemirror_mode": {
    "name": "ipython",
    "version": 3
   },
   "file_extension": ".py",
   "mimetype": "text/x-python",
   "name": "python",
   "nbconvert_exporter": "python",
   "pygments_lexer": "ipython3",
   "version": "3.9.7"
  }
 },
 "nbformat": 4,
 "nbformat_minor": 5
}
